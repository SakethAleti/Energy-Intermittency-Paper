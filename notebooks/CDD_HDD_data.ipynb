{
 "cells": [
  {
   "cell_type": "code",
   "execution_count": 1,
   "metadata": {},
   "outputs": [],
   "source": [
    "import pandas as pd\n",
    "import numpy as np\n",
    "import urllib.request"
   ]
  },
  {
   "cell_type": "code",
   "execution_count": 2,
   "metadata": {},
   "outputs": [],
   "source": [
    "data_dir = '../data/'\n",
    "tmpr_dir = '../data/controls/'"
   ]
  },
  {
   "cell_type": "markdown",
   "metadata": {},
   "source": [
    "### State Codes"
   ]
  },
  {
   "cell_type": "code",
   "execution_count": 3,
   "metadata": {},
   "outputs": [],
   "source": [
    "# MSN Codes Key\n",
    "msn_codes_file_loc = data_dir + 'keys/MSN.csv'\n",
    "msn_codes_key = pd.read_csv(msn_codes_file_loc)\n",
    "\n",
    "# State FIPS Codes\n",
    "state_fips_file_loc = data_dir + 'keys/FIPS.csv'\n",
    "state_fips_key = pd.read_csv(state_fips_file_loc)\n",
    "state_fips_indicators = ['State Abbreviation', 'State Name']\n",
    "\n",
    "# State NCDC Codes\n",
    "state_ncdc_file_loc = data_dir + 'keys/NCDC.csv'\n",
    "state_ncdc_key = pd.read_csv(state_ncdc_file_loc)\n",
    "state_ncdc_key['State Name'] = state_ncdc_key['State Name'].str.upper()\n",
    "\n",
    "# Merged State Codes Key\n",
    "state_codes_key = state_ncdc_key.merge(state_fips_key)"
   ]
  },
  {
   "cell_type": "code",
   "execution_count": 4,
   "metadata": {},
   "outputs": [],
   "source": [
    "# For converting NCDC to state name\n",
    "ncdc_state_dict = dict(state_codes_key.set_index('NCDC Code')['State Name'].apply(lambda x: x.lower()))"
   ]
  },
  {
   "cell_type": "markdown",
   "metadata": {},
   "source": [
    "### CDD and HDD"
   ]
  },
  {
   "cell_type": "code",
   "execution_count": 5,
   "metadata": {},
   "outputs": [],
   "source": [
    "# CDD\n",
    "cdd_file_loc = tmpr_dir + 'CDD_State.txt'\n",
    "data_cdd = pd.read_fwf(cdd_file_loc, header = None, index = None, converters={0: lambda x: str(x)})\n",
    "\n",
    "# HDD\n",
    "hdd_file_loc = tmpr_dir + 'HDD_State.txt'\n",
    "data_hdd = pd.read_fwf(hdd_file_loc, header = None, index = None, converters={0: lambda x: str(x)})\n",
    "\n",
    "# Translate first column \n",
    "data_cdd['NCDC Code'] = data_cdd[0].apply(lambda x: int(str(x)[:3]))\n",
    "data_cdd['year'] = data_cdd[0].apply(lambda x: str(x)[-4:])\n",
    "data_hdd['NCDC Code'] = data_hdd[0].apply(lambda x: int(str(x)[:3]))\n",
    "data_hdd['year'] = data_hdd[0].apply(lambda x: str(x)[-4:])\n",
    "\n",
    "# Drop unnecessary columns\n",
    "data_cdd = data_cdd.drop([0], axis = 1)\n",
    "data_hdd = data_hdd.drop([0], axis = 1)\n",
    "\n",
    "# Melt months columns\n",
    "data_cdd = data_cdd.melt(id_vars = ['NCDC Code', 'year'], value_vars = data_cdd.columns[0:12], var_name='month', value_name='CDD')\n",
    "data_hdd = data_hdd.melt(id_vars = ['NCDC Code', 'year'], value_vars = data_hdd.columns[0:12], var_name='month', value_name='HDD')\n",
    "\n",
    "# Merge\n",
    "data_dd = data_cdd.merge(data_hdd, on = ['year', 'month', 'NCDC Code'])\n",
    "data_dd['state'] = data_dd['NCDC Code'].apply(lambda x: ncdc_state_dict.get(x))\n",
    "data_dd = data_dd.drop('NCDC Code', axis = 1)\n",
    "\n",
    "# Remove undefined\n",
    "data_dd = data_dd.query('CDD != 99 & CDD != 999 & HDD != 9999')"
   ]
  },
  {
   "cell_type": "code",
   "execution_count": 91,
   "metadata": {},
   "outputs": [],
   "source": [
    "data_dd.to_csv('../data/controls/state_monthly_hdd_cdd.csv', index=False)"
   ]
  }
 ],
 "metadata": {
  "kernelspec": {
   "display_name": "Python 3",
   "language": "python",
   "name": "python3"
  },
  "language_info": {
   "codemirror_mode": {
    "name": "ipython",
    "version": 3
   },
   "file_extension": ".py",
   "mimetype": "text/x-python",
   "name": "python",
   "nbconvert_exporter": "python",
   "pygments_lexer": "ipython3",
   "version": "3.5.2"
  },
  "toc": {
   "base_numbering": 1,
   "nav_menu": {},
   "number_sections": true,
   "sideBar": true,
   "skip_h1_title": false,
   "title_cell": "Table of Contents",
   "title_sidebar": "Contents",
   "toc_cell": false,
   "toc_position": {},
   "toc_section_display": true,
   "toc_window_display": true
  }
 },
 "nbformat": 4,
 "nbformat_minor": 2
}
