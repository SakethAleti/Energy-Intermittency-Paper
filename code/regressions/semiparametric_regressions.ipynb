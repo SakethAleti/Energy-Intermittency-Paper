{
 "cells": [
  {
   "cell_type": "code",
   "execution_count": 1,
   "metadata": {},
   "outputs": [],
   "source": [
    "import pandas as pd\n",
    "import numpy as np\n",
    "import datetime as dt\n",
    "import statsmodels.formula.api as smf\n",
    "import statsmodels.nonparametric.api as nparam\n",
    "from statsmodels.nonparametric.bandwidths import bw_silverman\n",
    "from tqdm import tqdm_notebook as tqdm\n",
    "import os\n",
    "from multiprocessing import Pool\n",
    "import matplotlib\n",
    "import matplotlib.pyplot as plt\n",
    "import seaborn as sns"
   ]
  },
  {
   "cell_type": "markdown",
   "metadata": {},
   "source": [
    "## Import Data"
   ]
  },
  {
   "cell_type": "code",
   "execution_count": 2,
   "metadata": {},
   "outputs": [],
   "source": [
    "reg_data_df = pd.read_csv('../../data/processed/regression_data.csv')"
   ]
  },
  {
   "cell_type": "markdown",
   "metadata": {},
   "source": [
    "## Nonlinear Control IV Regressions"
   ]
  },
  {
   "cell_type": "markdown",
   "metadata": {},
   "source": [
    "\\begin{align*}\n",
    "Q &= P \\beta_d + f(T) + u_d \\\\\n",
    "Q &= P \\beta_s + g(W) + u_s \\\\\n",
    "P &= (\\beta_d - \\beta_s)^{-1} \\, \\left(  g(W) - f(T) + u_s - u_d \\right)  \\\\\n",
    "E(u_d \\, | \\, T, W) &= 0 \\\\\n",
    "E(u_s \\, | \\, T, W) &= 0 \\\\\n",
    "\\end{align*}\n",
    "\n",
    "where $f(T)$ is some nonlinear function of $T$ and $g(W)$ is some nonlinear function of $W$. "
   ]
  },
  {
   "cell_type": "markdown",
   "metadata": {},
   "source": [
    "Let $\\alpha = (\\beta_d - \\beta_s)^{-1}$. Firstly, note that we have:\n",
    "\\begin{align*}\n",
    "E(P\\,|\\,T) &= \\alpha (E(W) - f(T)) \\\\\n",
    "E(P\\,|\\,W) &= \\alpha (g(W) - E(T)) \\\\\n",
    "E(P\\,|\\,T,W) &= \\alpha(g(W) - f(T)) \n",
    "\\end{align*}"
   ]
  },
  {
   "cell_type": "markdown",
   "metadata": {},
   "source": [
    "Now, differencing $Q$ with its conditional expectation, we have:\n",
    "\\begin{align*}\n",
    "Q - E(Q \\,|\\,T) &= (P - E(P\\,|\\,T))\\beta_d + (f(T) - E(f(T) \\,|\\,T)) + (u_d - E(u_d|T))\\\\\n",
    "&= (\\alpha(g(W) - E(W)))\\beta_d + 0 + u_d \n",
    "\\end{align*}\n",
    "Now, note that we also have:\n",
    "$$E(P\\,|\\,T,W) - E(P\\,|\\,T) = \\alpha (g(W) - E(W))$$\n",
    "hence we can regress \n",
    "$$(Q - E(Q \\,|\\,T)) \\sim (E(P\\,|\\,T,W) - E(P\\,|\\,T)) $$ \n",
    "to estimate $\\beta_d$"
   ]
  },
  {
   "cell_type": "code",
   "execution_count": 3,
   "metadata": {
    "scrolled": true
   },
   "outputs": [
    {
     "name": "stdout",
     "output_type": "stream",
     "text": [
      "6817\n"
     ]
    }
   ],
   "source": [
    "# Data\n",
    "reg_data_sample_df = reg_data_df.copy()\n",
    "reg_data_sample_df['1'] = 1\n",
    "print(len(reg_data_sample_df))"
   ]
  },
  {
   "cell_type": "code",
   "execution_count": 10,
   "metadata": {},
   "outputs": [
    {
     "data": {
      "text/plain": [
       "6817"
      ]
     },
     "execution_count": 10,
     "metadata": {},
     "output_type": "execute_result"
    }
   ],
   "source": [
    "# Additional trimming if desired - should be set to 0 for original results\n",
    "trim_pct = 0.00\n",
    "reg_columns = ['ln_load_rel', 'ln_price_rel', 'ln_coal_rel', 'time_diff', 'CDD_1', 'CDD_2', 'HDD_1', 'HDD_2']\n",
    "\n",
    "for col in reg_columns:\n",
    "    lower, upper = (reg_data_sample_df[col].quantile(trim_pct/2), reg_data_sample_df[col].quantile(1-trim_pct/2))\n",
    "    reg_data_sample_df[col] = reg_data_sample_df[col].apply(\n",
    "        lambda x: x if (lower <= x <= upper) else np.nan)\n",
    "\n",
    "reg_data_sample_df = reg_data_sample_df[reg_columns].dropna()\n",
    "len(reg_data_sample_df)"
   ]
  },
  {
   "cell_type": "markdown",
   "metadata": {},
   "source": [
    "### No controls"
   ]
  },
  {
   "cell_type": "code",
   "execution_count": 70,
   "metadata": {},
   "outputs": [],
   "source": [
    "w  = np.array(reg_data_sample_df[['ln_coal_rel']])\n",
    "p  = np.array(reg_data_sample_df['ln_price_rel'])\n",
    "q  = np.array(reg_data_sample_df['ln_load_rel'])\n",
    "\n",
    "# Estimation of CE(P | W)\n",
    "ce_p_w, _ = nparam.KernelReg(endog=[p], exog=[w], reg_type='lc', var_type='c'*np.shape(w)[1], \n",
    "                             bw=[bw_silverman(w)]).fit(w)"
   ]
  },
  {
   "cell_type": "code",
   "execution_count": 71,
   "metadata": {},
   "outputs": [],
   "source": [
    "reg_data_sample_df['ce_p_w']  = ce_p_w"
   ]
  },
  {
   "cell_type": "code",
   "execution_count": 72,
   "metadata": {
    "scrolled": true
   },
   "outputs": [
    {
     "data": {
      "text/html": [
       "<table class=\"simpletable\">\n",
       "<caption>OLS Regression Results</caption>\n",
       "<tr>\n",
       "  <th>Dep. Variable:</th>       <td>ln_load_rel</td>   <th>  R-squared:         </th> <td>   0.043</td>\n",
       "</tr>\n",
       "<tr>\n",
       "  <th>Model:</th>                   <td>OLS</td>       <th>  Adj. R-squared:    </th> <td>   0.043</td>\n",
       "</tr>\n",
       "<tr>\n",
       "  <th>Method:</th>             <td>Least Squares</td>  <th>  F-statistic:       </th> <td>   313.8</td>\n",
       "</tr>\n",
       "<tr>\n",
       "  <th>Date:</th>             <td>Mon, 15 Jul 2019</td> <th>  Prob (F-statistic):</th> <td>1.08e-68</td>\n",
       "</tr>\n",
       "<tr>\n",
       "  <th>Time:</th>                 <td>14:24:09</td>     <th>  Log-Likelihood:    </th> <td> -1052.7</td>\n",
       "</tr>\n",
       "<tr>\n",
       "  <th>No. Observations:</th>      <td>  6817</td>      <th>  AIC:               </th> <td>   2109.</td>\n",
       "</tr>\n",
       "<tr>\n",
       "  <th>Df Residuals:</th>          <td>  6815</td>      <th>  BIC:               </th> <td>   2123.</td>\n",
       "</tr>\n",
       "<tr>\n",
       "  <th>Df Model:</th>              <td>     1</td>      <th>                     </th>     <td> </td>   \n",
       "</tr>\n",
       "<tr>\n",
       "  <th>Covariance Type:</th>         <td>HC1</td>       <th>                     </th>     <td> </td>   \n",
       "</tr>\n",
       "</table>\n",
       "<table class=\"simpletable\">\n",
       "<tr>\n",
       "      <td></td>         <th>coef</th>     <th>std err</th>      <th>z</th>      <th>P>|z|</th>  <th>[0.025</th>    <th>0.975]</th>  \n",
       "</tr>\n",
       "<tr>\n",
       "  <th>Intercept</th> <td>   -0.0054</td> <td>    0.004</td> <td>   -1.210</td> <td> 0.226</td> <td>   -0.014</td> <td>    0.003</td>\n",
       "</tr>\n",
       "<tr>\n",
       "  <th>ce_p_w</th>    <td>   -2.9976</td> <td>    0.169</td> <td>  -17.716</td> <td> 0.000</td> <td>   -3.329</td> <td>   -2.666</td>\n",
       "</tr>\n",
       "</table>\n",
       "<table class=\"simpletable\">\n",
       "<tr>\n",
       "  <th>Omnibus:</th>       <td> 4.783</td> <th>  Durbin-Watson:     </th> <td>   0.840</td>\n",
       "</tr>\n",
       "<tr>\n",
       "  <th>Prob(Omnibus):</th> <td> 0.092</td> <th>  Jarque-Bera (JB):  </th> <td>   4.977</td>\n",
       "</tr>\n",
       "<tr>\n",
       "  <th>Skew:</th>          <td> 0.035</td> <th>  Prob(JB):          </th> <td>  0.0831</td>\n",
       "</tr>\n",
       "<tr>\n",
       "  <th>Kurtosis:</th>      <td> 3.112</td> <th>  Cond. No.          </th> <td>    49.8</td>\n",
       "</tr>\n",
       "</table><br/><br/>Warnings:<br/>[1] Standard Errors are heteroscedasticity robust (HC1)"
      ],
      "text/plain": [
       "<class 'statsmodels.iolib.summary.Summary'>\n",
       "\"\"\"\n",
       "                            OLS Regression Results                            \n",
       "==============================================================================\n",
       "Dep. Variable:            ln_load_rel   R-squared:                       0.043\n",
       "Model:                            OLS   Adj. R-squared:                  0.043\n",
       "Method:                 Least Squares   F-statistic:                     313.8\n",
       "Date:                Mon, 15 Jul 2019   Prob (F-statistic):           1.08e-68\n",
       "Time:                        14:24:09   Log-Likelihood:                -1052.7\n",
       "No. Observations:                6817   AIC:                             2109.\n",
       "Df Residuals:                    6815   BIC:                             2123.\n",
       "Df Model:                           1                                         \n",
       "Covariance Type:                  HC1                                         \n",
       "==============================================================================\n",
       "                 coef    std err          z      P>|z|      [0.025      0.975]\n",
       "------------------------------------------------------------------------------\n",
       "Intercept     -0.0054      0.004     -1.210      0.226      -0.014       0.003\n",
       "ce_p_w        -2.9976      0.169    -17.716      0.000      -3.329      -2.666\n",
       "==============================================================================\n",
       "Omnibus:                        4.783   Durbin-Watson:                   0.840\n",
       "Prob(Omnibus):                  0.092   Jarque-Bera (JB):                4.977\n",
       "Skew:                           0.035   Prob(JB):                       0.0831\n",
       "Kurtosis:                       3.112   Cond. No.                         49.8\n",
       "==============================================================================\n",
       "\n",
       "Warnings:\n",
       "[1] Standard Errors are heteroscedasticity robust (HC1)\n",
       "\"\"\""
      ]
     },
     "execution_count": 72,
     "metadata": {},
     "output_type": "execute_result"
    }
   ],
   "source": [
    "fit_1 = smf.ols('ln_load_rel ~ ce_p_w', \n",
    "              data = reg_data_sample_df\n",
    "             ).fit(cov_type = 'HC1')\n",
    "fit_1.summary()"
   ]
  },
  {
   "cell_type": "markdown",
   "metadata": {},
   "source": [
    "### With only degree day controls"
   ]
  },
  {
   "cell_type": "code",
   "execution_count": 73,
   "metadata": {},
   "outputs": [],
   "source": [
    "t  = np.array(reg_data_sample_df[['CDD_1', 'CDD_2', 'HDD_1', 'HDD_2']])\n",
    "w  = np.array(reg_data_sample_df[['ln_coal_rel']])\n",
    "p  = np.array(reg_data_sample_df['ln_price_rel'])\n",
    "q  = np.array(reg_data_sample_df['ln_load_rel'])\n",
    "tw = np.concatenate((t,w.reshape(-1,1)), axis = 1)\n",
    "\n",
    "# Estimation of CE(Q | T)\n",
    "ce_q_t, _  = nparam.KernelReg(endog=[q], exog=[t], reg_type='lc', var_type='c'*np.shape(t)[1], \n",
    "                              bw=bw_silverman(t)).fit(t)\n",
    "\n",
    "# Estimation of CE(P | T)\n",
    "ce_p_t, _ = nparam.KernelReg(endog=[p], exog=[t], reg_type='lc', var_type='c'*np.shape(t)[1], \n",
    "                             bw=bw_silverman(t)).fit(t)\n",
    "\n",
    "# Estimation of CE(P | W)\n",
    "ce_p_w, _ = nparam.KernelReg(endog=[p], exog=[w], reg_type='lc', var_type='c'*np.shape(w)[1], \n",
    "                             bw=[bw_silverman(w)]).fit(w)\n",
    "\n",
    "# Estimation of CE(P | T, W)\n",
    "ce_p_tw, _ = nparam.KernelReg(endog=[p], exog=[tw], reg_type='lc', var_type='c'*(np.shape(t)[1]+np.shape(w)[1]), \n",
    "                             bw=bw_silverman(tw)).fit(tw)"
   ]
  },
  {
   "cell_type": "code",
   "execution_count": 74,
   "metadata": {},
   "outputs": [],
   "source": [
    "reg_data_sample_df['ce_q_t']  = ce_q_t\n",
    "reg_data_sample_df['ce_p_t']  = ce_p_t\n",
    "reg_data_sample_df['ce_p_w']  = ce_p_w\n",
    "reg_data_sample_df['ce_p_tw'] = ce_p_tw"
   ]
  },
  {
   "cell_type": "code",
   "execution_count": 75,
   "metadata": {
    "scrolled": true
   },
   "outputs": [
    {
     "data": {
      "text/html": [
       "<table class=\"simpletable\">\n",
       "<caption>OLS Regression Results</caption>\n",
       "<tr>\n",
       "  <th>Dep. Variable:</th>    <td>np.add(ln_load_rel, -ce_q_t)</td> <th>  R-squared:         </th> <td>   0.086</td> \n",
       "</tr>\n",
       "<tr>\n",
       "  <th>Model:</th>                         <td>OLS</td>             <th>  Adj. R-squared:    </th> <td>   0.085</td> \n",
       "</tr>\n",
       "<tr>\n",
       "  <th>Method:</th>                   <td>Least Squares</td>        <th>  F-statistic:       </th> <td>   548.8</td> \n",
       "</tr>\n",
       "<tr>\n",
       "  <th>Date:</th>                   <td>Mon, 15 Jul 2019</td>       <th>  Prob (F-statistic):</th> <td>8.49e-117</td>\n",
       "</tr>\n",
       "<tr>\n",
       "  <th>Time:</th>                       <td>14:24:47</td>           <th>  Log-Likelihood:    </th> <td>  2917.9</td> \n",
       "</tr>\n",
       "<tr>\n",
       "  <th>No. Observations:</th>            <td>  6817</td>            <th>  AIC:               </th> <td>  -5832.</td> \n",
       "</tr>\n",
       "<tr>\n",
       "  <th>Df Residuals:</th>                <td>  6815</td>            <th>  BIC:               </th> <td>  -5818.</td> \n",
       "</tr>\n",
       "<tr>\n",
       "  <th>Df Model:</th>                    <td>     1</td>            <th>                     </th>     <td> </td>    \n",
       "</tr>\n",
       "<tr>\n",
       "  <th>Covariance Type:</th>               <td>HC1</td>             <th>                     </th>     <td> </td>    \n",
       "</tr>\n",
       "</table>\n",
       "<table class=\"simpletable\">\n",
       "<tr>\n",
       "              <td></td>                <th>coef</th>     <th>std err</th>      <th>z</th>      <th>P>|z|</th>  <th>[0.025</th>    <th>0.975]</th>  \n",
       "</tr>\n",
       "<tr>\n",
       "  <th>Intercept</th>                <td>   -0.0001</td> <td>    0.002</td> <td>   -0.064</td> <td> 0.949</td> <td>   -0.004</td> <td>    0.004</td>\n",
       "</tr>\n",
       "<tr>\n",
       "  <th>np.add(ce_p_tw, -ce_p_t)</th> <td>   -1.2123</td> <td>    0.052</td> <td>  -23.427</td> <td> 0.000</td> <td>   -1.314</td> <td>   -1.111</td>\n",
       "</tr>\n",
       "</table>\n",
       "<table class=\"simpletable\">\n",
       "<tr>\n",
       "  <th>Omnibus:</th>       <td>91.609</td> <th>  Durbin-Watson:     </th> <td>   1.051</td>\n",
       "</tr>\n",
       "<tr>\n",
       "  <th>Prob(Omnibus):</th> <td> 0.000</td> <th>  Jarque-Bera (JB):  </th> <td> 160.113</td>\n",
       "</tr>\n",
       "<tr>\n",
       "  <th>Skew:</th>          <td>-0.071</td> <th>  Prob(JB):          </th> <td>1.71e-35</td>\n",
       "</tr>\n",
       "<tr>\n",
       "  <th>Kurtosis:</th>      <td> 3.737</td> <th>  Cond. No.          </th> <td>    25.1</td>\n",
       "</tr>\n",
       "</table><br/><br/>Warnings:<br/>[1] Standard Errors are heteroscedasticity robust (HC1)"
      ],
      "text/plain": [
       "<class 'statsmodels.iolib.summary.Summary'>\n",
       "\"\"\"\n",
       "                                 OLS Regression Results                                 \n",
       "========================================================================================\n",
       "Dep. Variable:     np.add(ln_load_rel, -ce_q_t)   R-squared:                       0.086\n",
       "Model:                                      OLS   Adj. R-squared:                  0.085\n",
       "Method:                           Least Squares   F-statistic:                     548.8\n",
       "Date:                          Mon, 15 Jul 2019   Prob (F-statistic):          8.49e-117\n",
       "Time:                                  14:24:47   Log-Likelihood:                 2917.9\n",
       "No. Observations:                          6817   AIC:                            -5832.\n",
       "Df Residuals:                              6815   BIC:                            -5818.\n",
       "Df Model:                                     1                                         \n",
       "Covariance Type:                            HC1                                         \n",
       "============================================================================================\n",
       "                               coef    std err          z      P>|z|      [0.025      0.975]\n",
       "--------------------------------------------------------------------------------------------\n",
       "Intercept                   -0.0001      0.002     -0.064      0.949      -0.004       0.004\n",
       "np.add(ce_p_tw, -ce_p_t)    -1.2123      0.052    -23.427      0.000      -1.314      -1.111\n",
       "==============================================================================\n",
       "Omnibus:                       91.609   Durbin-Watson:                   1.051\n",
       "Prob(Omnibus):                  0.000   Jarque-Bera (JB):              160.113\n",
       "Skew:                          -0.071   Prob(JB):                     1.71e-35\n",
       "Kurtosis:                       3.737   Cond. No.                         25.1\n",
       "==============================================================================\n",
       "\n",
       "Warnings:\n",
       "[1] Standard Errors are heteroscedasticity robust (HC1)\n",
       "\"\"\""
      ]
     },
     "execution_count": 75,
     "metadata": {},
     "output_type": "execute_result"
    }
   ],
   "source": [
    "fit_2 = smf.ols('np.add(ln_load_rel, -ce_q_t) ~ np.add(ce_p_tw, -ce_p_t)', \n",
    "              data = reg_data_sample_df\n",
    "             ).fit(cov_type = 'HC1')\n",
    "fit_2.summary()"
   ]
  },
  {
   "cell_type": "markdown",
   "metadata": {},
   "source": [
    "### With all controls"
   ]
  },
  {
   "cell_type": "code",
   "execution_count": 76,
   "metadata": {},
   "outputs": [],
   "source": [
    "t  = np.array(reg_data_sample_df[['time_diff', 'CDD_1', 'CDD_2', 'HDD_1', 'HDD_2']])\n",
    "w  = np.array(reg_data_sample_df[['ln_coal_rel']])\n",
    "p  = np.array(reg_data_sample_df['ln_price_rel'])\n",
    "q  = np.array(reg_data_sample_df['ln_load_rel'])\n",
    "tw = np.concatenate((t,w.reshape(-1,1)), axis = 1)\n",
    "\n",
    "# Estimation of CE(Q | T)\n",
    "ce_q_t, _  = nparam.KernelReg(endog=[q], exog=[t], reg_type='lc', var_type='c'*np.shape(t)[1], \n",
    "                              bw=bw_silverman(t)).fit(t)\n",
    "\n",
    "# Estimation of CE(P | T)\n",
    "ce_p_t, _ = nparam.KernelReg(endog=[p], exog=[t], reg_type='lc', var_type='c'*np.shape(t)[1], \n",
    "                             bw=bw_silverman(t)).fit(t)\n",
    "\n",
    "# Estimation of CE(P | W)\n",
    "ce_p_w, _ = nparam.KernelReg(endog=[p], exog=[w], reg_type='lc', var_type='c'*np.shape(w)[1], \n",
    "                             bw=[bw_silverman(w)]).fit(w)\n",
    "\n",
    "# Estimation of CE(P | T, W)\n",
    "ce_p_tw, _ = nparam.KernelReg(endog=[p], exog=[tw], reg_type='lc', var_type='c'*(np.shape(t)[1]+np.shape(w)[1]), \n",
    "                             bw=bw_silverman(tw)).fit(tw)"
   ]
  },
  {
   "cell_type": "code",
   "execution_count": 77,
   "metadata": {},
   "outputs": [],
   "source": [
    "reg_data_sample_df['ce_q_t']  = ce_q_t\n",
    "reg_data_sample_df['ce_p_t']  = ce_p_t\n",
    "reg_data_sample_df['ce_p_w']  = ce_p_w\n",
    "reg_data_sample_df['ce_p_tw'] = ce_p_tw"
   ]
  },
  {
   "cell_type": "code",
   "execution_count": 78,
   "metadata": {
    "scrolled": true
   },
   "outputs": [
    {
     "data": {
      "text/html": [
       "<table class=\"simpletable\">\n",
       "<caption>OLS Regression Results</caption>\n",
       "<tr>\n",
       "  <th>Dep. Variable:</th>    <td>np.add(ln_load_rel, -ce_q_t)</td> <th>  R-squared:         </th>  <td>   0.094</td> \n",
       "</tr>\n",
       "<tr>\n",
       "  <th>Model:</th>                         <td>OLS</td>             <th>  Adj. R-squared:    </th>  <td>   0.093</td> \n",
       "</tr>\n",
       "<tr>\n",
       "  <th>Method:</th>                   <td>Least Squares</td>        <th>  F-statistic:       </th>  <td>   403.4</td> \n",
       "</tr>\n",
       "<tr>\n",
       "  <th>Date:</th>                   <td>Mon, 15 Jul 2019</td>       <th>  Prob (F-statistic):</th>  <td>3.19e-87</td> \n",
       "</tr>\n",
       "<tr>\n",
       "  <th>Time:</th>                       <td>14:25:33</td>           <th>  Log-Likelihood:    </th>  <td>  6513.7</td> \n",
       "</tr>\n",
       "<tr>\n",
       "  <th>No. Observations:</th>            <td>  6817</td>            <th>  AIC:               </th> <td>-1.302e+04</td>\n",
       "</tr>\n",
       "<tr>\n",
       "  <th>Df Residuals:</th>                <td>  6815</td>            <th>  BIC:               </th> <td>-1.301e+04</td>\n",
       "</tr>\n",
       "<tr>\n",
       "  <th>Df Model:</th>                    <td>     1</td>            <th>                     </th>      <td> </td>    \n",
       "</tr>\n",
       "<tr>\n",
       "  <th>Covariance Type:</th>               <td>HC1</td>             <th>                     </th>      <td> </td>    \n",
       "</tr>\n",
       "</table>\n",
       "<table class=\"simpletable\">\n",
       "<tr>\n",
       "              <td></td>                <th>coef</th>     <th>std err</th>      <th>z</th>      <th>P>|z|</th>  <th>[0.025</th>    <th>0.975]</th>  \n",
       "</tr>\n",
       "<tr>\n",
       "  <th>Intercept</th>                <td>   -0.0001</td> <td>    0.001</td> <td>   -0.126</td> <td> 0.899</td> <td>   -0.002</td> <td>    0.002</td>\n",
       "</tr>\n",
       "<tr>\n",
       "  <th>np.add(ce_p_tw, -ce_p_t)</th> <td>   -0.8847</td> <td>    0.044</td> <td>  -20.085</td> <td> 0.000</td> <td>   -0.971</td> <td>   -0.798</td>\n",
       "</tr>\n",
       "</table>\n",
       "<table class=\"simpletable\">\n",
       "<tr>\n",
       "  <th>Omnibus:</th>       <td>408.105</td> <th>  Durbin-Watson:     </th> <td>   1.232</td>\n",
       "</tr>\n",
       "<tr>\n",
       "  <th>Prob(Omnibus):</th> <td> 0.000</td>  <th>  Jarque-Bera (JB):  </th> <td>1754.108</td>\n",
       "</tr>\n",
       "<tr>\n",
       "  <th>Skew:</th>          <td>-0.077</td>  <th>  Prob(JB):          </th> <td>    0.00</td>\n",
       "</tr>\n",
       "<tr>\n",
       "  <th>Kurtosis:</th>      <td> 5.480</td>  <th>  Cond. No.          </th> <td>    29.6</td>\n",
       "</tr>\n",
       "</table><br/><br/>Warnings:<br/>[1] Standard Errors are heteroscedasticity robust (HC1)"
      ],
      "text/plain": [
       "<class 'statsmodels.iolib.summary.Summary'>\n",
       "\"\"\"\n",
       "                                 OLS Regression Results                                 \n",
       "========================================================================================\n",
       "Dep. Variable:     np.add(ln_load_rel, -ce_q_t)   R-squared:                       0.094\n",
       "Model:                                      OLS   Adj. R-squared:                  0.093\n",
       "Method:                           Least Squares   F-statistic:                     403.4\n",
       "Date:                          Mon, 15 Jul 2019   Prob (F-statistic):           3.19e-87\n",
       "Time:                                  14:25:33   Log-Likelihood:                 6513.7\n",
       "No. Observations:                          6817   AIC:                        -1.302e+04\n",
       "Df Residuals:                              6815   BIC:                        -1.301e+04\n",
       "Df Model:                                     1                                         \n",
       "Covariance Type:                            HC1                                         \n",
       "============================================================================================\n",
       "                               coef    std err          z      P>|z|      [0.025      0.975]\n",
       "--------------------------------------------------------------------------------------------\n",
       "Intercept                   -0.0001      0.001     -0.126      0.899      -0.002       0.002\n",
       "np.add(ce_p_tw, -ce_p_t)    -0.8847      0.044    -20.085      0.000      -0.971      -0.798\n",
       "==============================================================================\n",
       "Omnibus:                      408.105   Durbin-Watson:                   1.232\n",
       "Prob(Omnibus):                  0.000   Jarque-Bera (JB):             1754.108\n",
       "Skew:                          -0.077   Prob(JB):                         0.00\n",
       "Kurtosis:                       5.480   Cond. No.                         29.6\n",
       "==============================================================================\n",
       "\n",
       "Warnings:\n",
       "[1] Standard Errors are heteroscedasticity robust (HC1)\n",
       "\"\"\""
      ]
     },
     "execution_count": 78,
     "metadata": {},
     "output_type": "execute_result"
    }
   ],
   "source": [
    "fit_3 = smf.ols('np.add(ln_load_rel, -ce_q_t) ~ np.add(ce_p_tw, -ce_p_t)', \n",
    "              data = reg_data_sample_df\n",
    "             ).fit(cov_type = 'HC1')\n",
    "fit_3.summary()"
   ]
  },
  {
   "cell_type": "markdown",
   "metadata": {},
   "source": [
    "## Regression Summary"
   ]
  },
  {
   "cell_type": "code",
   "execution_count": 79,
   "metadata": {},
   "outputs": [
    {
     "data": {
      "text/html": [
       "<div>\n",
       "<style scoped>\n",
       "    .dataframe tbody tr th:only-of-type {\n",
       "        vertical-align: middle;\n",
       "    }\n",
       "\n",
       "    .dataframe tbody tr th {\n",
       "        vertical-align: top;\n",
       "    }\n",
       "\n",
       "    .dataframe thead th {\n",
       "        text-align: right;\n",
       "    }\n",
       "</style>\n",
       "<table border=\"1\" class=\"dataframe\">\n",
       "  <thead>\n",
       "    <tr style=\"text-align: right;\">\n",
       "      <th></th>\n",
       "      <th>(1)</th>\n",
       "      <th>(2)</th>\n",
       "      <th>(3)</th>\n",
       "    </tr>\n",
       "  </thead>\n",
       "  <tbody>\n",
       "    <tr>\n",
       "      <th>sigma coeff</th>\n",
       "      <td>2.9976</td>\n",
       "      <td>1.2123</td>\n",
       "      <td>0.8847</td>\n",
       "    </tr>\n",
       "    <tr>\n",
       "      <th>sigma stder</th>\n",
       "      <td>0.1692</td>\n",
       "      <td>0.0518</td>\n",
       "      <td>0.0440</td>\n",
       "    </tr>\n",
       "    <tr>\n",
       "      <th>sigma t-stat</th>\n",
       "      <td>17.7157</td>\n",
       "      <td>23.4269</td>\n",
       "      <td>20.0852</td>\n",
       "    </tr>\n",
       "  </tbody>\n",
       "</table>\n",
       "</div>"
      ],
      "text/plain": [
       "                  (1)      (2)      (3)\n",
       "sigma coeff    2.9976   1.2123   0.8847\n",
       "sigma stder    0.1692   0.0518   0.0440\n",
       "sigma t-stat  17.7157  23.4269  20.0852"
      ]
     },
     "execution_count": 79,
     "metadata": {},
     "output_type": "execute_result"
    }
   ],
   "source": [
    "# Collect regression results\n",
    "fits = (fit_1, fit_2, fit_3)\n",
    "reg_results = {'sigma coeff': [-fit.params[1] for fit in fits],\n",
    "               'sigma stder': [np.sqrt(np.diag(fit.get_robustcov_results(cov_type='HC1').cov_params()))[1] for fit in fits]}\n",
    "\n",
    "# Format as dataframe\n",
    "reg_results_df = pd.DataFrame(reg_results)\n",
    "reg_results_df.index = ['(1)', '(2)', '(3)']\n",
    "reg_results_df['sigma t-stat'] = reg_results_df['sigma coeff']/reg_results_df['sigma stder']\n",
    "reg_results_df.T.round(decimals = 4)"
   ]
  },
  {
   "cell_type": "markdown",
   "metadata": {},
   "source": [
    "## Robustness Check - State Dropouts"
   ]
  },
  {
   "cell_type": "code",
   "execution_count": 4,
   "metadata": {},
   "outputs": [
    {
     "name": "stdout",
     "output_type": "stream",
     "text": [
      "Preparing data...\n",
      "Loaded data size:  6817\n"
     ]
    }
   ],
   "source": [
    "#### Data\n",
    "print('Preparing data...')\n",
    "reg_data_sample_df = reg_data_df.copy()\n",
    "reg_data_sample_df['1'] = 1\n",
    "print('Loaded data size: ', len(reg_data_sample_df))"
   ]
  },
  {
   "cell_type": "code",
   "execution_count": 33,
   "metadata": {},
   "outputs": [],
   "source": [
    "def get_dropstate_result(state):\n",
    "\n",
    "    reg_data_sample_df = reg_data_df.copy()\n",
    "    reg_data_sample_df['1'] = 1\n",
    "\n",
    "    reg_data_sample_df = reg_data_sample_df.query('state_1 != @state')\n",
    "    \n",
    "    ### With all controls\n",
    "\n",
    "    t  = np.array(reg_data_sample_df[['time_diff', 'CDD_1', \n",
    "                                    'CDD_2', 'HDD_1', 'HDD_2']])\n",
    "    w  = np.array(reg_data_sample_df[['ln_coal_rel']])\n",
    "    p  = np.array(reg_data_sample_df['ln_price_rel'])\n",
    "    q  = np.array(reg_data_sample_df['ln_load_rel'])\n",
    "    tw = np.concatenate((t,w.reshape(-1,1)), axis = 1)\n",
    "\n",
    "    # Estimation of CE(Q | T)\n",
    "    ce_q_t, _  = nparam.KernelReg(endog=[q], exog=[t], reg_type='lc', \n",
    "                                var_type='c'*np.shape(t)[1], \n",
    "                                bw=bw_silverman(t)).fit(t)\n",
    "\n",
    "    # Estimation of CE(P | T)\n",
    "    ce_p_t, _ = nparam.KernelReg(endog=[p], exog=[t], reg_type='lc', \n",
    "                                var_type='c'*np.shape(t)[1], \n",
    "                                bw=bw_silverman(t)).fit(t)\n",
    "\n",
    "    # Estimation of CE(P | W)\n",
    "    ce_p_w, _ = nparam.KernelReg(endog=[p], exog=[w], reg_type='lc', \n",
    "                                var_type='c'*np.shape(w)[1], \n",
    "                                bw=[bw_silverman(w)]).fit(w)\n",
    "\n",
    "    # Estimation of CE(P | T, W)\n",
    "    ce_p_tw, _ = nparam.KernelReg(endog=[p], exog=[tw], reg_type='lc', \n",
    "                                var_type='c'*(np.shape(t)[1]+np.shape(w)[1]), \n",
    "                                bw=bw_silverman(tw)).fit(tw)\n",
    "\n",
    "    reg_data_sample_df['ce_q_t']  = ce_q_t\n",
    "    reg_data_sample_df['ce_p_t']  = ce_p_t\n",
    "    reg_data_sample_df['ce_p_w']  = ce_p_w\n",
    "    reg_data_sample_df['ce_p_tw'] = ce_p_tw\n",
    "\n",
    "    fit_3 = smf.ols('np.add(ln_load_rel, -ce_q_t) ~ np.add(ce_p_tw, -ce_p_t)', \n",
    "                data = reg_data_sample_df\n",
    "                ).fit(cov_type = 'HC1')\n",
    "    fit_3.summary()\n",
    "\n",
    "\n",
    "    ### Regression Summary\n",
    "\n",
    "    # Collect regression results\n",
    "    fits = (fit_3, fit_3, fit_3)\n",
    "    reg_results = {'sigma coeff': [-fit.params[1] for fit in fits],\n",
    "                   'sigma stder': [np.sqrt(np.diag(\n",
    "                    fit.get_robustcov_results(cov_type='HC1').cov_params()))[1] \n",
    "                    for fit in fits]}\n",
    "\n",
    "    # Format as dataframe\n",
    "    reg_results_df = pd.DataFrame(reg_results)\n",
    "    reg_results_df.index = ['(1)', '(2)', '(3)']\n",
    "    reg_results_df['sigma t-stat'] = (reg_results_df['sigma coeff']/\n",
    "                                    reg_results_df['sigma stder'])\n",
    "    # Add to results\n",
    "    result = [state] + list(reg_results_df.T.iloc[:,-1].values) + [len(reg_data_sample_df)]\n",
    "    \n",
    "    return result"
   ]
  },
  {
   "cell_type": "code",
   "execution_count": null,
   "metadata": {
    "scrolled": true
   },
   "outputs": [],
   "source": [
    "pool       = Pool()\n",
    "states     = reg_data_df['state_1'].unique()\n",
    "results_df = pd.DataFrame([[np.nan]*5]*len(states), columns = ['state', 'coeff', 'stderr', 't', 'n'])\n",
    "\n",
    "for ind, result in tqdm(enumerate(pool.imap_unordered(get_dropstate_result, states), 1), total = len(states)):\n",
    "    results_df.iloc[ind-1] = result"
   ]
  },
  {
   "cell_type": "code",
   "execution_count": 50,
   "metadata": {},
   "outputs": [
    {
     "data": {
      "text/html": [
       "<div>\n",
       "<style scoped>\n",
       "    .dataframe tbody tr th:only-of-type {\n",
       "        vertical-align: middle;\n",
       "    }\n",
       "\n",
       "    .dataframe tbody tr th {\n",
       "        vertical-align: top;\n",
       "    }\n",
       "\n",
       "    .dataframe thead th {\n",
       "        text-align: right;\n",
       "    }\n",
       "</style>\n",
       "<table border=\"1\" class=\"dataframe\">\n",
       "  <thead>\n",
       "    <tr style=\"text-align: right;\">\n",
       "      <th></th>\n",
       "      <th>coeff</th>\n",
       "      <th>stderr</th>\n",
       "      <th>t</th>\n",
       "      <th>n</th>\n",
       "      <th>inv_stderr</th>\n",
       "      <th>Estimate of IES</th>\n",
       "      <th>Inverse of Std. Error</th>\n",
       "      <th>hausman_stat</th>\n",
       "      <th>hausman_p</th>\n",
       "      <th>coeff_pct_diff</th>\n",
       "      <th>coeff_diff</th>\n",
       "    </tr>\n",
       "  </thead>\n",
       "  <tbody>\n",
       "    <tr>\n",
       "      <th>count</th>\n",
       "      <td>48.000000</td>\n",
       "      <td>48.000000</td>\n",
       "      <td>48.000000</td>\n",
       "      <td>48.000000</td>\n",
       "      <td>48.000000</td>\n",
       "      <td>48.000000</td>\n",
       "      <td>48.000000</td>\n",
       "      <td>48.000000</td>\n",
       "      <td>48.000000</td>\n",
       "      <td>48.000000</td>\n",
       "      <td>48.000000</td>\n",
       "    </tr>\n",
       "    <tr>\n",
       "      <th>mean</th>\n",
       "      <td>0.887298</td>\n",
       "      <td>0.044627</td>\n",
       "      <td>19.883624</td>\n",
       "      <td>6674.979167</td>\n",
       "      <td>22.415648</td>\n",
       "      <td>0.887298</td>\n",
       "      <td>22.415648</td>\n",
       "      <td>32.934677</td>\n",
       "      <td>0.380148</td>\n",
       "      <td>0.002937</td>\n",
       "      <td>0.002598</td>\n",
       "    </tr>\n",
       "    <tr>\n",
       "      <th>std</th>\n",
       "      <td>0.027968</td>\n",
       "      <td>0.000858</td>\n",
       "      <td>0.542734</td>\n",
       "      <td>56.526962</td>\n",
       "      <td>0.410553</td>\n",
       "      <td>0.027968</td>\n",
       "      <td>0.410553</td>\n",
       "      <td>147.203468</td>\n",
       "      <td>0.374709</td>\n",
       "      <td>0.031613</td>\n",
       "      <td>0.027968</td>\n",
       "    </tr>\n",
       "    <tr>\n",
       "      <th>min</th>\n",
       "      <td>0.817314</td>\n",
       "      <td>0.043298</td>\n",
       "      <td>18.526633</td>\n",
       "      <td>6492.000000</td>\n",
       "      <td>20.522821</td>\n",
       "      <td>0.817314</td>\n",
       "      <td>20.522821</td>\n",
       "      <td>-115.190171</td>\n",
       "      <td>0.000000</td>\n",
       "      <td>-0.076168</td>\n",
       "      <td>-0.067386</td>\n",
       "    </tr>\n",
       "    <tr>\n",
       "      <th>25%</th>\n",
       "      <td>0.876728</td>\n",
       "      <td>0.044180</td>\n",
       "      <td>19.653680</td>\n",
       "      <td>6646.000000</td>\n",
       "      <td>22.259420</td>\n",
       "      <td>0.876728</td>\n",
       "      <td>22.259420</td>\n",
       "      <td>0.140651</td>\n",
       "      <td>0.006833</td>\n",
       "      <td>-0.009011</td>\n",
       "      <td>-0.007972</td>\n",
       "    </tr>\n",
       "    <tr>\n",
       "      <th>50%</th>\n",
       "      <td>0.886038</td>\n",
       "      <td>0.044441</td>\n",
       "      <td>19.868371</td>\n",
       "      <td>6681.000000</td>\n",
       "      <td>22.501705</td>\n",
       "      <td>0.886038</td>\n",
       "      <td>22.501705</td>\n",
       "      <td>1.245985</td>\n",
       "      <td>0.264707</td>\n",
       "      <td>0.001512</td>\n",
       "      <td>0.001338</td>\n",
       "    </tr>\n",
       "    <tr>\n",
       "      <th>75%</th>\n",
       "      <td>0.896423</td>\n",
       "      <td>0.044925</td>\n",
       "      <td>20.080162</td>\n",
       "      <td>6712.000000</td>\n",
       "      <td>22.634521</td>\n",
       "      <td>0.896423</td>\n",
       "      <td>22.634521</td>\n",
       "      <td>7.319790</td>\n",
       "      <td>0.712174</td>\n",
       "      <td>0.013251</td>\n",
       "      <td>0.011723</td>\n",
       "    </tr>\n",
       "    <tr>\n",
       "      <th>max</th>\n",
       "      <td>0.979307</td>\n",
       "      <td>0.048726</td>\n",
       "      <td>21.165131</td>\n",
       "      <td>6781.000000</td>\n",
       "      <td>23.095564</td>\n",
       "      <td>0.979307</td>\n",
       "      <td>23.095564</td>\n",
       "      <td>901.899935</td>\n",
       "      <td>1.000000</td>\n",
       "      <td>0.106937</td>\n",
       "      <td>0.094607</td>\n",
       "    </tr>\n",
       "  </tbody>\n",
       "</table>\n",
       "</div>"
      ],
      "text/plain": [
       "           coeff     stderr          t            n  inv_stderr  \\\n",
       "count  48.000000  48.000000  48.000000    48.000000   48.000000   \n",
       "mean    0.887298   0.044627  19.883624  6674.979167   22.415648   \n",
       "std     0.027968   0.000858   0.542734    56.526962    0.410553   \n",
       "min     0.817314   0.043298  18.526633  6492.000000   20.522821   \n",
       "25%     0.876728   0.044180  19.653680  6646.000000   22.259420   \n",
       "50%     0.886038   0.044441  19.868371  6681.000000   22.501705   \n",
       "75%     0.896423   0.044925  20.080162  6712.000000   22.634521   \n",
       "max     0.979307   0.048726  21.165131  6781.000000   23.095564   \n",
       "\n",
       "       Estimate of IES  Inverse of Std. Error  hausman_stat  hausman_p  \\\n",
       "count        48.000000              48.000000     48.000000  48.000000   \n",
       "mean          0.887298              22.415648     32.934677   0.380148   \n",
       "std           0.027968               0.410553    147.203468   0.374709   \n",
       "min           0.817314              20.522821   -115.190171   0.000000   \n",
       "25%           0.876728              22.259420      0.140651   0.006833   \n",
       "50%           0.886038              22.501705      1.245985   0.264707   \n",
       "75%           0.896423              22.634521      7.319790   0.712174   \n",
       "max           0.979307              23.095564    901.899935   1.000000   \n",
       "\n",
       "       coeff_pct_diff  coeff_diff  \n",
       "count       48.000000   48.000000  \n",
       "mean         0.002937    0.002598  \n",
       "std          0.031613    0.027968  \n",
       "min         -0.076168   -0.067386  \n",
       "25%         -0.009011   -0.007972  \n",
       "50%          0.001512    0.001338  \n",
       "75%          0.013251    0.011723  \n",
       "max          0.106937    0.094607  "
      ]
     },
     "execution_count": 50,
     "metadata": {},
     "output_type": "execute_result"
    }
   ],
   "source": [
    "results_df['inv_stderr']     = 1/results_df['stderr']\n",
    "results_df['coeff_diff']     = results_df['coeff'].apply(lambda x: x-0.8847)\n",
    "results_df['coeff_pct_diff'] = results_df['coeff'].apply(lambda x: x/0.8847-1)\n",
    "results_df.describe()"
   ]
  },
  {
   "cell_type": "code",
   "execution_count": 36,
   "metadata": {},
   "outputs": [
    {
     "data": {
      "image/png": "[encoded data removed]",
      "text/plain": [
       "<Figure size 504x504 with 3 Axes>"
      ]
     },
     "metadata": {},
     "output_type": "display_data"
    }
   ],
   "source": [
    "# Plot settings\n",
    "matplotlib.rcParams.update({'font.size': 14})\n",
    "matplotlib.rcParams['mathtext.fontset'] = 'stix'\n",
    "matplotlib.rcParams['font.family'] = 'STIXGeneral'\n",
    "\n",
    "# Plot\n",
    "results_df['Estimate of IES'] = results_df['coeff']\n",
    "results_df['Inverse of Std. Error'] = results_df['inv_stderr']\n",
    "sns.jointplot(x = 'Estimate of IES', y = 'Inverse of Std. Error', data = results_df, \n",
    "              ratio = 3, height = 7, color = 'k')\n",
    "\n",
    "# Save\n",
    "plt.savefig('../../figures/regression_state_robustness_check.png', dpi = 300, \n",
    "            pad_inches = 0)\n",
    "plt.show()"
   ]
  },
  {
   "cell_type": "code",
   "execution_count": 37,
   "metadata": {},
   "outputs": [
    {
     "data": {
      "text/plain": [
       "count    48.0000\n",
       "mean      0.8873\n",
       "std       0.0280\n",
       "min       0.8173\n",
       "2.5%      0.8333\n",
       "50%       0.8860\n",
       "97.5%     0.9343\n",
       "max       0.9793\n",
       "Name: coeff, dtype: float64"
      ]
     },
     "execution_count": 37,
     "metadata": {},
     "output_type": "execute_result"
    }
   ],
   "source": [
    "results_df['coeff'].describe(percentiles = [0.025, 0.975]).round(decimals = 4)"
   ]
  }
 ],
 "metadata": {
  "kernelspec": {
   "display_name": "Python 3",
   "language": "python",
   "name": "python3"
  },
  "language_info": {
   "codemirror_mode": {
    "name": "ipython",
    "version": 3
   },
   "file_extension": ".py",
   "mimetype": "text/x-python",
   "name": "python",
   "nbconvert_exporter": "python",
   "pygments_lexer": "ipython3",
   "version": "3.5.2"
  },
  "toc": {
   "base_numbering": 1,
   "nav_menu": {},
   "number_sections": true,
   "sideBar": true,
   "skip_h1_title": false,
   "title_cell": "Table of Contents",
   "title_sidebar": "Contents",
   "toc_cell": false,
   "toc_position": {},
   "toc_section_display": true,
   "toc_window_display": true
  }
 },
 "nbformat": 4,
 "nbformat_minor": 2
}
